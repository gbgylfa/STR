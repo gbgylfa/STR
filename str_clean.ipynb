{
 "cells": [
  {
   "cell_type": "code",
   "execution_count": 26,
   "metadata": {
    "collapsed": false
   },
   "outputs": [],
   "source": [
    "import pandas as pd\n",
    "from pandas import Series, DataFrame\n",
    "import numpy as np\n",
    "import matplotlib.pylab as plt\n",
    "%matplotlib inline\n",
    "pd.set_option('max_rows', 500)\n",
    "\n"
   ]
  },
  {
   "cell_type": "code",
   "execution_count": 2,
   "metadata": {
    "collapsed": false
   },
   "outputs": [
    {
     "name": "stdout",
     "output_type": "stream",
     "text": [
      "Output/speaker_data.csv   Output/str2.csv           Output/str_PNC_IHELP.csv\r\n",
      "Output/str.csv            Output/strIHELP.csv\r\n"
     ]
    }
   ],
   "source": [
    "ls Output/*.csv"
   ]
  },
  {
   "cell_type": "code",
   "execution_count": 3,
   "metadata": {
    "collapsed": false
   },
   "outputs": [
    {
     "name": "stderr",
     "output_type": "stream",
     "text": [
      "//anaconda/lib/python2.7/site-packages/pandas/io/parsers.py:1170: DtypeWarning: Columns (2,3,4,10,11) have mixed types. Specify dtype option on import or set low_memory=False.\n",
      "  data = self._reader.read(nrows)\n"
     ]
    }
   ],
   "source": [
    "# import data:\n",
    "data = pd.read_csv('Output/str2.csv')"
   ]
  },
  {
   "cell_type": "code",
   "execution_count": 6,
   "metadata": {
    "collapsed": false
   },
   "outputs": [
    {
     "data": {
      "text/html": [
       "<div>\n",
       "<table border=\"1\" class=\"dataframe\">\n",
       "  <thead>\n",
       "    <tr style=\"text-align: right;\">\n",
       "      <th></th>\n",
       "      <th>filename</th>\n",
       "      <th>speaker</th>\n",
       "      <th>start</th>\n",
       "      <th>stop</th>\n",
       "      <th>length</th>\n",
       "      <th>word</th>\n",
       "      <th>previous</th>\n",
       "      <th>segment</th>\n",
       "      <th>following</th>\n",
       "      <th>position</th>\n",
       "      <th>cog</th>\n",
       "      <th>maxcog</th>\n",
       "    </tr>\n",
       "  </thead>\n",
       "  <tbody>\n",
       "    <tr>\n",
       "      <th>0</th>\n",
       "      <td>PH00-1-1-JStevens</td>\n",
       "      <td>JStevens</td>\n",
       "      <td>7.502999783</td>\n",
       "      <td>7.623000145</td>\n",
       "      <td>0.120000362</td>\n",
       "      <td>SIX</td>\n",
       "      <td>sp</td>\n",
       "      <td>S</td>\n",
       "      <td>IH1</td>\n",
       "      <td>initial</td>\n",
       "      <td>3846.431559</td>\n",
       "      <td>4383.307129</td>\n",
       "    </tr>\n",
       "    <tr>\n",
       "      <th>1</th>\n",
       "      <td>PH00-1-1-JStevens</td>\n",
       "      <td>JStevens</td>\n",
       "      <td>7.782999992</td>\n",
       "      <td>7.992000103</td>\n",
       "      <td>0.209000111</td>\n",
       "      <td>SIX</td>\n",
       "      <td>K</td>\n",
       "      <td>S</td>\n",
       "      <td>sp</td>\n",
       "      <td>final</td>\n",
       "      <td>3145.544096</td>\n",
       "      <td>3660.808105</td>\n",
       "    </tr>\n",
       "    <tr>\n",
       "      <th>2</th>\n",
       "      <td>PH00-1-1-JStevens</td>\n",
       "      <td>JStevens</td>\n",
       "      <td>8.211999893</td>\n",
       "      <td>8.312999725</td>\n",
       "      <td>0.100999832</td>\n",
       "      <td>SEVEN</td>\n",
       "      <td>sp</td>\n",
       "      <td>S</td>\n",
       "      <td>EH1</td>\n",
       "      <td>initial</td>\n",
       "      <td>2950.241333</td>\n",
       "      <td>3505.469482</td>\n",
       "    </tr>\n",
       "    <tr>\n",
       "      <th>3</th>\n",
       "      <td>PH00-1-1-JStevens</td>\n",
       "      <td>JStevens</td>\n",
       "      <td>24.68799973</td>\n",
       "      <td>24.86700058</td>\n",
       "      <td>0.179000854</td>\n",
       "      <td>SEVENTY</td>\n",
       "      <td>AH1</td>\n",
       "      <td>S</td>\n",
       "      <td>EH1</td>\n",
       "      <td>initial</td>\n",
       "      <td>4608.505811</td>\n",
       "      <td>4747.629883</td>\n",
       "    </tr>\n",
       "    <tr>\n",
       "      <th>4</th>\n",
       "      <td>PH00-1-1-JStevens</td>\n",
       "      <td>JStevens</td>\n",
       "      <td>35.41199875</td>\n",
       "      <td>35.45299912</td>\n",
       "      <td>0.041000366</td>\n",
       "      <td>FIRST</td>\n",
       "      <td>ER1</td>\n",
       "      <td>S</td>\n",
       "      <td>T</td>\n",
       "      <td>medial</td>\n",
       "      <td>2083.084717</td>\n",
       "      <td>2083.084717</td>\n",
       "    </tr>\n",
       "  </tbody>\n",
       "</table>\n",
       "</div>"
      ],
      "text/plain": [
       "            filename   speaker        start         stop       length  \\\n",
       "0  PH00-1-1-JStevens  JStevens  7.502999783  7.623000145  0.120000362   \n",
       "1  PH00-1-1-JStevens  JStevens  7.782999992  7.992000103  0.209000111   \n",
       "2  PH00-1-1-JStevens  JStevens  8.211999893  8.312999725  0.100999832   \n",
       "3  PH00-1-1-JStevens  JStevens  24.68799973  24.86700058  0.179000854   \n",
       "4  PH00-1-1-JStevens  JStevens  35.41199875  35.45299912  0.041000366   \n",
       "\n",
       "      word previous segment following position          cog       maxcog  \n",
       "0      SIX       sp       S       IH1  initial  3846.431559  4383.307129  \n",
       "1      SIX        K       S        sp    final  3145.544096  3660.808105  \n",
       "2    SEVEN       sp       S       EH1  initial  2950.241333  3505.469482  \n",
       "3  SEVENTY      AH1       S       EH1  initial  4608.505811  4747.629883  \n",
       "4    FIRST      ER1       S         T   medial  2083.084717  2083.084717  "
      ]
     },
     "execution_count": 6,
     "metadata": {},
     "output_type": "execute_result"
    }
   ],
   "source": [
    "data.head()"
   ]
  },
  {
   "cell_type": "code",
   "execution_count": 7,
   "metadata": {
    "collapsed": false
   },
   "outputs": [
    {
     "data": {
      "text/plain": [
       "0"
      ]
     },
     "execution_count": 7,
     "metadata": {},
     "output_type": "execute_result"
    }
   ],
   "source": [
    "data.index[0]"
   ]
  },
  {
   "cell_type": "markdown",
   "metadata": {},
   "source": [
    "## Clean"
   ]
  },
  {
   "cell_type": "code",
   "execution_count": 8,
   "metadata": {
    "collapsed": false
   },
   "outputs": [],
   "source": [
    "# remove obs don't start with P or I:\n",
    "tokeep = data.filename.apply(lambda x: x[0]).isin(['I','P'])\n",
    "data = data[tokeep]"
   ]
  },
  {
   "cell_type": "code",
   "execution_count": 9,
   "metadata": {
    "collapsed": false
   },
   "outputs": [],
   "source": [
    "def splitname(col):\n",
    "    splitted = col.split('-')\n",
    "    if col[0]=='P':\n",
    "        return splitted[0]+'-'+splitted[1]+'-'+splitted[2]\n",
    "    elif col[0]=='I':\n",
    "        return splitted[0]+'-'+splitted[1]\n",
    "    \n",
    "data['subject'] = data.filename.apply(splitname)\n",
    "\n",
    "def streetfunc(col):\n",
    "    if 'STREET' in col:\n",
    "        return 'Yes'\n",
    "    else:\n",
    "        return 'No'\n",
    "data['street'] = data.word.apply(streetfunc)   \n",
    "\n",
    "# reindex:\n",
    "data.set_index('subject', drop=False, inplace=True)"
   ]
  },
  {
   "cell_type": "code",
   "execution_count": 10,
   "metadata": {
    "collapsed": false
   },
   "outputs": [
    {
     "data": {
      "text/plain": [
       "No     204333\n",
       "Yes      2288\n",
       "dtype: int64"
      ]
     },
     "execution_count": 10,
     "metadata": {},
     "output_type": "execute_result"
    }
   ],
   "source": [
    "data.street.value_counts()"
   ]
  },
  {
   "cell_type": "code",
   "execution_count": 11,
   "metadata": {
    "collapsed": false
   },
   "outputs": [],
   "source": [
    "data = data[data.cog.isnull()==False]"
   ]
  },
  {
   "cell_type": "code",
   "execution_count": 12,
   "metadata": {
    "collapsed": false
   },
   "outputs": [],
   "source": [
    "data.drop_duplicates(inplace=True)"
   ]
  },
  {
   "cell_type": "code",
   "execution_count": 13,
   "metadata": {
    "collapsed": false
   },
   "outputs": [],
   "source": [
    "# bad entry:\n",
    "data = data[data.cog != '2PH74-0-1-DDegerberg']\n",
    "data = data[data.maxcog != '3583.615723PH80-2-1-DGood']"
   ]
  },
  {
   "cell_type": "code",
   "execution_count": 14,
   "metadata": {
    "collapsed": false
   },
   "outputs": [],
   "source": [
    "data.cog = data.cog.astype(float)\n",
    "data.maxcog = data.maxcog.astype(float)"
   ]
  },
  {
   "cell_type": "code",
   "execution_count": 15,
   "metadata": {
    "collapsed": false
   },
   "outputs": [],
   "source": [
    "# select 5 or more Str:\n",
    "data['STR'] = data.segment=='STR'\n",
    "STRcount = data.groupby('subject').STR.sum()\n",
    "data['STRcount'] = STRcount\n",
    "\n",
    "data = data[data.STRcount > 4]"
   ]
  },
  {
   "cell_type": "code",
   "execution_count": 16,
   "metadata": {
    "collapsed": false
   },
   "outputs": [
    {
     "data": {
      "text/plain": [
       "array(['highfront', 'consonant', 'not', 'pause'], dtype=object)"
      ]
     },
     "execution_count": 16,
     "metadata": {},
     "output_type": "execute_result"
    }
   ],
   "source": [
    "# change vowels\n",
    "\n",
    "def getFrontness(col):\n",
    "    if col in set(['AE0','AE1','AE2','EH1','EH0','EH2','EY0','EY1',\n",
    "                   'EY2','IH0','IH1','IH2','IY1','IY0','IY2']):\n",
    "        return 'front'\n",
    "    if col in set(['AA0','AA1','AA2','AH1','AH0','AH2','AO0','AO1','AO2','AW0','AW1','AW2',\n",
    "                   'AY0','AY1','AY2','ER','OW0','OW1','OW2','OY','OY1','UH1','UW0','UW1','UW2']):\n",
    "        return 'non-front'\n",
    "    if col in set(['br','lg','ns']):\n",
    "        return 'pause'\n",
    "    else:\n",
    "        return 'consonant'\n",
    "    \n",
    "data['following_frontness'] = data.following.apply(getFrontness)\n",
    "data.following_frontness.unique()\n",
    "    \n",
    "def getHeight(col):\n",
    "    if col in set(['AE0','AE1','AE2','EH1','EH0','EH2','EY0','EY1',\n",
    "                   'EY2','IH0','AA0','AA1','AA2','AH1','AH0','AH2','AO0',\n",
    "                   'AO1','AO2','AW0','AW1','AW2','UH1',\n",
    "                   'AY0','AY1','AY2','ER','OW0','OW1','OW2','OY','OY1']):\n",
    "        return 'non-high'\n",
    "    if col in set(['IH1','IH2','IY1','IY0','IY2','UW0','UW1','UW2']):\n",
    "        return 'high'\n",
    "    if col in set(['br','lg','ns']):\n",
    "        return 'pause'\n",
    "    else:\n",
    "        return 'consonant'\n",
    "    \n",
    "data['following_height'] = data.following.apply(getHeight)\n",
    "data.following_height.unique()\n",
    "\n",
    "def getHF(col):\n",
    "    if col in set(['AE0','AE1','AE2','EH1','EH0','EH2','EY0','EY1',\n",
    "                   'EY2','IH0','AA0','AA1','AA2','AH1','AH0','AH2','AO0',\n",
    "                   'AO1','AO2','AW0','AW1','AW2','UH1',\n",
    "                   'AY0','AY1','AY2','ER','OW0','OW1','OW2','OY','OY1','UW0','UW1','UW2']):\n",
    "        return 'not'\n",
    "    if col in set(['IH1','IH2','IY1','IY0','IY2']):\n",
    "        return 'highfront'\n",
    "    if col in set(['br','lg','ns']):\n",
    "        return 'pause'\n",
    "    else:\n",
    "        return 'consonant'\n",
    "    \n",
    "data['following_hf'] = data.following.apply(getHF)\n",
    "data.following_hf.unique()\n",
    "\n"
   ]
  },
  {
   "cell_type": "markdown",
   "metadata": {},
   "source": [
    "## Analysis"
   ]
  },
  {
   "cell_type": "code",
   "execution_count": 17,
   "metadata": {
    "collapsed": false
   },
   "outputs": [],
   "source": [
    "# create initial data frame:\n",
    "initial = data[data.position=='initial'].copy()\n",
    "\n",
    "# normalize data:\n",
    "data['meancog'] = data.groupby('subject').cog.mean()\n",
    "data['stdevcog'] = data.groupby('subject').cog.std()\n",
    "# data['stdevmaxcog'] = data.groupby('subject').maxcog.std()\n",
    "data['normalizedmean'] = (data.cog - data.meancog)/data.stdevcog\n",
    "#data['difference'] = data.groupby('subject').normalizedmean\n",
    "\n",
    "# normalize initial:\n",
    "initial['meancog'] = initial.groupby('subject').cog.mean()\n",
    "initial['stdevcog'] = initial.groupby('subject').cog.std()\n",
    "# initial['stdevmaxcog'] = initial.groupby('subject').maxcog.std()\n",
    "initial['normalizedmean'] = (initial.cog - initial.meancog)/initial.stdevcog\n",
    "\n",
    "# create doubli index:\n",
    "initial.set_index(['subject', 'segment'], drop=False, inplace=True)\n",
    "data.set_index(['subject', 'segment'], drop=False, inplace=True)\n",
    "\n",
    "# mean cog values\n",
    "# data['meancog'] = data.groupby(['subject','segment']).cog.mean()\n",
    "# data['meanmaxcog'] = data.groupby(['subject','segment']).maxcog.mean()\n",
    "# data['normalizedmean'] = (data.cog - data.meancog)/data.stdevcog\n",
    "# data['normalizedmeanmax'] = (data.cog - data.meanmaxcog)/data.stdevmaxcog\n",
    "\n",
    "# initial['meancog'] = initial.groupby(['subject','segment']).cog.mean()\n",
    "# initial['meanmaxcog'] = initial.groupby(['subject','segment']).maxcog.mean()\n",
    "# initial['normalizedmean'] = (initial.cog - initial.meancog)/initial.stdevcog\n",
    "# initial['normalizedmeanmax'] = (initial.cog - initial.meanmaxcog)/initial.stdevmaxcog"
   ]
  },
  {
   "cell_type": "markdown",
   "metadata": {},
   "source": [
    "### Speaker Data "
   ]
  },
  {
   "cell_type": "code",
   "execution_count": 18,
   "metadata": {
    "collapsed": false
   },
   "outputs": [
    {
     "data": {
      "text/html": [
       "<div>\n",
       "<table border=\"1\" class=\"dataframe\">\n",
       "  <thead>\n",
       "    <tr style=\"text-align: right;\">\n",
       "      <th></th>\n",
       "      <th>Subj</th>\n",
       "      <th>Age</th>\n",
       "      <th>Sex</th>\n",
       "      <th>Eth</th>\n",
       "      <th>EdYears</th>\n",
       "      <th>Nbrhood</th>\n",
       "      <th>Location</th>\n",
       "      <th>Name</th>\n",
       "      <th>Year</th>\n",
       "      <th>DOB</th>\n",
       "      <th>Corpus</th>\n",
       "      <th>nasal_bimodality</th>\n",
       "      <th>Phila_bimodality</th>\n",
       "      <th>Income</th>\n",
       "      <th>HS</th>\n",
       "      <th>HS_code</th>\n",
       "    </tr>\n",
       "  </thead>\n",
       "  <tbody>\n",
       "    <tr>\n",
       "      <th>0</th>\n",
       "      <td>PH00-1-2</td>\n",
       "      <td>52</td>\n",
       "      <td>f</td>\n",
       "      <td>o/i</td>\n",
       "      <td>12</td>\n",
       "      <td>Buchanan</td>\n",
       "      <td>South</td>\n",
       "      <td>Nathalie J</td>\n",
       "      <td>2000</td>\n",
       "      <td>1948</td>\n",
       "      <td>PNC</td>\n",
       "      <td>NaN</td>\n",
       "      <td>NaN</td>\n",
       "      <td>NaN</td>\n",
       "      <td>NaN</td>\n",
       "      <td>NaN</td>\n",
       "    </tr>\n",
       "    <tr>\n",
       "      <th>1</th>\n",
       "      <td>PH00-1-5</td>\n",
       "      <td>70</td>\n",
       "      <td>m</td>\n",
       "      <td>i</td>\n",
       "      <td>12</td>\n",
       "      <td>Buchanan</td>\n",
       "      <td>South</td>\n",
       "      <td>Bag O</td>\n",
       "      <td>2000</td>\n",
       "      <td>1930</td>\n",
       "      <td>PNC</td>\n",
       "      <td>NaN</td>\n",
       "      <td>NaN</td>\n",
       "      <td>NaN</td>\n",
       "      <td>NaN</td>\n",
       "      <td>NaN</td>\n",
       "    </tr>\n",
       "    <tr>\n",
       "      <th>2</th>\n",
       "      <td>PH02-1-1</td>\n",
       "      <td>93</td>\n",
       "      <td>f</td>\n",
       "      <td>w</td>\n",
       "      <td>10</td>\n",
       "      <td>Ellis</td>\n",
       "      <td>South</td>\n",
       "      <td>Ethel</td>\n",
       "      <td>2002</td>\n",
       "      <td>1909</td>\n",
       "      <td>PNC</td>\n",
       "      <td>NaN</td>\n",
       "      <td>NaN</td>\n",
       "      <td>NaN</td>\n",
       "      <td>NaN</td>\n",
       "      <td>NaN</td>\n",
       "    </tr>\n",
       "    <tr>\n",
       "      <th>3</th>\n",
       "      <td>PH02-2-4</td>\n",
       "      <td>63</td>\n",
       "      <td>f</td>\n",
       "      <td>r</td>\n",
       "      <td>10</td>\n",
       "      <td>Opal/Prince</td>\n",
       "      <td>Kensington</td>\n",
       "      <td>Anne S</td>\n",
       "      <td>2002</td>\n",
       "      <td>1939</td>\n",
       "      <td>PNC</td>\n",
       "      <td>NaN</td>\n",
       "      <td>NaN</td>\n",
       "      <td>NaN</td>\n",
       "      <td>NaN</td>\n",
       "      <td>NaN</td>\n",
       "    </tr>\n",
       "    <tr>\n",
       "      <th>4</th>\n",
       "      <td>PH02-2-5</td>\n",
       "      <td>59</td>\n",
       "      <td>f</td>\n",
       "      <td>r/w</td>\n",
       "      <td>11</td>\n",
       "      <td>Opal/Prince</td>\n",
       "      <td>Kensington</td>\n",
       "      <td>Dorothy C</td>\n",
       "      <td>2002</td>\n",
       "      <td>1943</td>\n",
       "      <td>PNC</td>\n",
       "      <td>NaN</td>\n",
       "      <td>NaN</td>\n",
       "      <td>NaN</td>\n",
       "      <td>NaN</td>\n",
       "      <td>NaN</td>\n",
       "    </tr>\n",
       "  </tbody>\n",
       "</table>\n",
       "</div>"
      ],
      "text/plain": [
       "       Subj Age Sex  Eth  EdYears      Nbrhood    Location        Name  Year  \\\n",
       "0  PH00-1-2  52   f  o/i       12     Buchanan       South  Nathalie J  2000   \n",
       "1  PH00-1-5  70   m    i       12     Buchanan       South       Bag O  2000   \n",
       "2  PH02-1-1  93   f    w       10        Ellis       South      Ethel   2002   \n",
       "3  PH02-2-4  63   f    r       10  Opal/Prince  Kensington      Anne S  2002   \n",
       "4  PH02-2-5  59   f  r/w       11  Opal/Prince  Kensington   Dorothy C  2002   \n",
       "\n",
       "    DOB Corpus  nasal_bimodality  Phila_bimodality  Income   HS HS_code  \n",
       "0  1948    PNC               NaN               NaN     NaN  NaN     NaN  \n",
       "1  1930    PNC               NaN               NaN     NaN  NaN     NaN  \n",
       "2  1909    PNC               NaN               NaN     NaN  NaN     NaN  \n",
       "3  1939    PNC               NaN               NaN     NaN  NaN     NaN  \n",
       "4  1943    PNC               NaN               NaN     NaN  NaN     NaN  "
      ]
     },
     "execution_count": 18,
     "metadata": {},
     "output_type": "execute_result"
    }
   ],
   "source": [
    "# import data:\n",
    "speaker_data = pd.read_csv('Output/speaker_data.csv')\n",
    "\n",
    "speaker_data.replace('?', np.nan, inplace=True)\n",
    "speaker_data = speaker_data[speaker_data.DOB.isnull()==False]\n",
    "speaker_data = speaker_data[speaker_data.DOB != '1908']\n",
    "speaker_data['DOB'] = speaker_data.DOB.astype(float)\n",
    "speaker_data['Sex'] = speaker_data.Sex.str.lower()\n",
    "\n",
    "speaker_data.head()"
   ]
  },
  {
   "cell_type": "markdown",
   "metadata": {},
   "source": [
    "### Merge"
   ]
  },
  {
   "cell_type": "code",
   "execution_count": 19,
   "metadata": {
    "collapsed": false
   },
   "outputs": [],
   "source": [
    "initial = initial.merge(speaker_data, left_on = \"subject\", right_on = \"Subj\")\n",
    "data = data.merge(speaker_data, left_on = \"subject\", right_on = \"Subj\")"
   ]
  },
  {
   "cell_type": "code",
   "execution_count": 20,
   "metadata": {
    "collapsed": false
   },
   "outputs": [
    {
     "data": {
      "text/html": [
       "<div>\n",
       "<table border=\"1\" class=\"dataframe\">\n",
       "  <thead>\n",
       "    <tr style=\"text-align: right;\">\n",
       "      <th></th>\n",
       "      <th>filename</th>\n",
       "      <th>speaker</th>\n",
       "      <th>start</th>\n",
       "      <th>stop</th>\n",
       "      <th>length</th>\n",
       "      <th>word</th>\n",
       "      <th>previous</th>\n",
       "      <th>segment</th>\n",
       "      <th>following</th>\n",
       "      <th>position</th>\n",
       "      <th>...</th>\n",
       "      <th>Location</th>\n",
       "      <th>Name</th>\n",
       "      <th>Year</th>\n",
       "      <th>DOB</th>\n",
       "      <th>Corpus</th>\n",
       "      <th>nasal_bimodality</th>\n",
       "      <th>Phila_bimodality</th>\n",
       "      <th>Income</th>\n",
       "      <th>HS</th>\n",
       "      <th>HS_code</th>\n",
       "    </tr>\n",
       "  </thead>\n",
       "  <tbody>\n",
       "    <tr>\n",
       "      <th>0</th>\n",
       "      <td>PH00-1-1-JStevens</td>\n",
       "      <td>JStevens</td>\n",
       "      <td>7.502999783</td>\n",
       "      <td>7.623000145</td>\n",
       "      <td>0.120000362</td>\n",
       "      <td>SIX</td>\n",
       "      <td>sp</td>\n",
       "      <td>S</td>\n",
       "      <td>IH1</td>\n",
       "      <td>initial</td>\n",
       "      <td>...</td>\n",
       "      <td>South</td>\n",
       "      <td>John S</td>\n",
       "      <td>2000</td>\n",
       "      <td>1979</td>\n",
       "      <td>PNC</td>\n",
       "      <td>NaN</td>\n",
       "      <td>NaN</td>\n",
       "      <td>NaN</td>\n",
       "      <td>NaN</td>\n",
       "      <td>NaN</td>\n",
       "    </tr>\n",
       "    <tr>\n",
       "      <th>1</th>\n",
       "      <td>PH00-1-1-JStevens</td>\n",
       "      <td>JStevens</td>\n",
       "      <td>7.782999992</td>\n",
       "      <td>7.992000103</td>\n",
       "      <td>0.209000111</td>\n",
       "      <td>SIX</td>\n",
       "      <td>K</td>\n",
       "      <td>S</td>\n",
       "      <td>sp</td>\n",
       "      <td>final</td>\n",
       "      <td>...</td>\n",
       "      <td>South</td>\n",
       "      <td>John S</td>\n",
       "      <td>2000</td>\n",
       "      <td>1979</td>\n",
       "      <td>PNC</td>\n",
       "      <td>NaN</td>\n",
       "      <td>NaN</td>\n",
       "      <td>NaN</td>\n",
       "      <td>NaN</td>\n",
       "      <td>NaN</td>\n",
       "    </tr>\n",
       "    <tr>\n",
       "      <th>2</th>\n",
       "      <td>PH00-1-1-JStevens</td>\n",
       "      <td>JStevens</td>\n",
       "      <td>8.211999893</td>\n",
       "      <td>8.312999725</td>\n",
       "      <td>0.100999832</td>\n",
       "      <td>SEVEN</td>\n",
       "      <td>sp</td>\n",
       "      <td>S</td>\n",
       "      <td>EH1</td>\n",
       "      <td>initial</td>\n",
       "      <td>...</td>\n",
       "      <td>South</td>\n",
       "      <td>John S</td>\n",
       "      <td>2000</td>\n",
       "      <td>1979</td>\n",
       "      <td>PNC</td>\n",
       "      <td>NaN</td>\n",
       "      <td>NaN</td>\n",
       "      <td>NaN</td>\n",
       "      <td>NaN</td>\n",
       "      <td>NaN</td>\n",
       "    </tr>\n",
       "    <tr>\n",
       "      <th>3</th>\n",
       "      <td>PH00-1-1-JStevens</td>\n",
       "      <td>JStevens</td>\n",
       "      <td>24.68799973</td>\n",
       "      <td>24.86700058</td>\n",
       "      <td>0.179000854</td>\n",
       "      <td>SEVENTY</td>\n",
       "      <td>AH1</td>\n",
       "      <td>S</td>\n",
       "      <td>EH1</td>\n",
       "      <td>initial</td>\n",
       "      <td>...</td>\n",
       "      <td>South</td>\n",
       "      <td>John S</td>\n",
       "      <td>2000</td>\n",
       "      <td>1979</td>\n",
       "      <td>PNC</td>\n",
       "      <td>NaN</td>\n",
       "      <td>NaN</td>\n",
       "      <td>NaN</td>\n",
       "      <td>NaN</td>\n",
       "      <td>NaN</td>\n",
       "    </tr>\n",
       "    <tr>\n",
       "      <th>4</th>\n",
       "      <td>PH00-1-1-JStevens</td>\n",
       "      <td>JStevens</td>\n",
       "      <td>35.41199875</td>\n",
       "      <td>35.45299912</td>\n",
       "      <td>0.041000366</td>\n",
       "      <td>FIRST</td>\n",
       "      <td>ER1</td>\n",
       "      <td>S</td>\n",
       "      <td>T</td>\n",
       "      <td>medial</td>\n",
       "      <td>...</td>\n",
       "      <td>South</td>\n",
       "      <td>John S</td>\n",
       "      <td>2000</td>\n",
       "      <td>1979</td>\n",
       "      <td>PNC</td>\n",
       "      <td>NaN</td>\n",
       "      <td>NaN</td>\n",
       "      <td>NaN</td>\n",
       "      <td>NaN</td>\n",
       "      <td>NaN</td>\n",
       "    </tr>\n",
       "  </tbody>\n",
       "</table>\n",
       "<p>5 rows × 38 columns</p>\n",
       "</div>"
      ],
      "text/plain": [
       "            filename   speaker        start         stop       length  \\\n",
       "0  PH00-1-1-JStevens  JStevens  7.502999783  7.623000145  0.120000362   \n",
       "1  PH00-1-1-JStevens  JStevens  7.782999992  7.992000103  0.209000111   \n",
       "2  PH00-1-1-JStevens  JStevens  8.211999893  8.312999725  0.100999832   \n",
       "3  PH00-1-1-JStevens  JStevens  24.68799973  24.86700058  0.179000854   \n",
       "4  PH00-1-1-JStevens  JStevens  35.41199875  35.45299912  0.041000366   \n",
       "\n",
       "      word previous segment following position   ...     Location    Name  \\\n",
       "0      SIX       sp       S       IH1  initial   ...        South  John S   \n",
       "1      SIX        K       S        sp    final   ...        South  John S   \n",
       "2    SEVEN       sp       S       EH1  initial   ...        South  John S   \n",
       "3  SEVENTY      AH1       S       EH1  initial   ...        South  John S   \n",
       "4    FIRST      ER1       S         T   medial   ...        South  John S   \n",
       "\n",
       "   Year   DOB Corpus  nasal_bimodality Phila_bimodality Income   HS  HS_code  \n",
       "0  2000  1979    PNC               NaN              NaN    NaN  NaN      NaN  \n",
       "1  2000  1979    PNC               NaN              NaN    NaN  NaN      NaN  \n",
       "2  2000  1979    PNC               NaN              NaN    NaN  NaN      NaN  \n",
       "3  2000  1979    PNC               NaN              NaN    NaN  NaN      NaN  \n",
       "4  2000  1979    PNC               NaN              NaN    NaN  NaN      NaN  \n",
       "\n",
       "[5 rows x 38 columns]"
      ]
     },
     "execution_count": 20,
     "metadata": {},
     "output_type": "execute_result"
    }
   ],
   "source": [
    "data.head()"
   ]
  },
  {
   "cell_type": "markdown",
   "metadata": {},
   "source": [
    "## Write to CSV"
   ]
  },
  {
   "cell_type": "code",
   "execution_count": 21,
   "metadata": {
    "collapsed": false
   },
   "outputs": [],
   "source": [
    "data.to_csv(\"data.csv\",index = False)\n",
    "initial.to_csv(\"init.csv\",index = False)\n"
   ]
  },
  {
   "cell_type": "code",
   "execution_count": null,
   "metadata": {
    "collapsed": true
   },
   "outputs": [],
   "source": []
  }
 ],
 "metadata": {
  "kernelspec": {
   "display_name": "Python 2",
   "language": "python",
   "name": "python2"
  },
  "language_info": {
   "codemirror_mode": {
    "name": "ipython",
    "version": 2
   },
   "file_extension": ".py",
   "mimetype": "text/x-python",
   "name": "python",
   "nbconvert_exporter": "python",
   "pygments_lexer": "ipython2",
   "version": "2.7.10"
  }
 },
 "nbformat": 4,
 "nbformat_minor": 0
}
